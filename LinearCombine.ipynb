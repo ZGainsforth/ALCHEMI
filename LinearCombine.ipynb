{
 "cells": [
  {
   "cell_type": "code",
   "execution_count": 60,
   "metadata": {},
   "outputs": [
    {
     "name": "stdout",
     "output_type": "stream",
     "text": [
      "Populating the interactive namespace from numpy and matplotlib\n"
     ]
    },
    {
     "name": "stderr",
     "output_type": "stream",
     "text": [
      "/Users/Zack/anaconda/envs/conda36/lib/python3.6/site-packages/IPython/core/magics/pylab.py:160: UserWarning: pylab import has clobbered these variables: ['table']\n",
      "`%matplotlib` prevents importing * from pylab and numpy\n",
      "  \"\\n`%matplotlib` prevents importing * from pylab and numpy\"\n"
     ]
    }
   ],
   "source": [
    "# Created 2017, Zack Gainsforth\n",
    "%pylab osx\n",
    "import sys, os\n",
    "import QuickPlot\n",
    "import matplotlib.pylab as pylab\n",
    "# pylab.rcParams['figure.figsize'] = 8, 6  # that's default image size for this interactive session\n",
    "# from IPython.core.display import display, HTML\n",
    "# display(HTML(\"<style>.container { width:100% !important; }</style>\"))\n",
    "# from ipywidgets.widgets import interactive, fixed, interact\n",
    "%config InlineBackend.figure_format = 'retina'\n",
    "\n",
    "from scipy.optimize import nnls\n",
    "\n",
    "from tabulate import tabulate"
   ]
  },
  {
   "cell_type": "code",
   "execution_count": 63,
   "metadata": {},
   "outputs": [
    {
     "name": "stdout",
     "output_type": "stream",
     "text": [
      "Direct data\n",
      "+-------+--------+--------+--------+------------+----------------+---------+\n",
      "| ICP   |    Oct |    Tet |     Ox |   Residual |   Total counts |   sigma |\n",
      "+=======+========+========+========+============+================+=========+\n",
      "| CrKa  | 100.00 |   0.00 |   0.00 |       0.00 |    14556985.31 |    0.00 |\n",
      "+-------+--------+--------+--------+------------+----------------+---------+\n",
      "| CrKb  |  50.48 |  86.32 |   0.00 |    1804.77 |     1855787.30 |    0.03 |\n",
      "+-------+--------+--------+--------+------------+----------------+---------+\n",
      "| FeKa  |   1.29 |  99.93 |   3.45 |   12001.36 |     6553299.86 |    0.04 |\n",
      "+-------+--------+--------+--------+------------+----------------+---------+\n",
      "| FeKb  |   2.18 |  99.94 |   2.51 |    2004.92 |      877545.53 |    0.05 |\n",
      "+-------+--------+--------+--------+------------+----------------+---------+\n",
      "| MgK   |   0.00 | 100.00 |   0.00 |       0.00 |      352591.16 |    0.00 |\n",
      "+-------+--------+--------+--------+------------+----------------+---------+\n",
      "| TiKa  | 100.00 |   0.00 |   0.00 |     850.07 |      301919.24 |    0.05 |\n",
      "+-------+--------+--------+--------+------------+----------------+---------+\n",
      "| VKa   |  99.98 |   0.00 |   1.87 |    1019.62 |      171163.57 |    0.08 |\n",
      "+-------+--------+--------+--------+------------+----------------+---------+\n",
      "| OK    |   0.00 |   0.00 | 100.00 |       0.00 |     8759920.45 |    0.00 |\n",
      "+-------+--------+--------+--------+------------+----------------+---------+\n",
      "\n",
      "After subtracting off overlaps\n",
      "+-------+--------+--------+--------+------------+----------------+---------+\n",
      "| ICP   |    Oct |    Tet |     Ox |   Residual |   Total counts |   sigma |\n",
      "+=======+========+========+========+============+================+=========+\n",
      "| CrKa  | 100.00 |   0.00 |   0.00 |       0.00 |    14556985.31 |    0.00 |\n",
      "+-------+--------+--------+--------+------------+----------------+---------+\n",
      "| CrKb  |   0.00 | 100.00 |   0.00 |    1805.06 |       65278.10 |    0.17 |\n",
      "+-------+--------+--------+--------+------------+----------------+---------+\n",
      "| FeKa  |   1.29 |  99.93 |   3.45 |   12001.36 |     6553299.86 |    0.04 |\n",
      "+-------+--------+--------+--------+------------+----------------+---------+\n",
      "| FeKb  | 100.00 |   0.00 |   0.00 |    1390.15 |       58383.04 |    0.15 |\n",
      "+-------+--------+--------+--------+------------+----------------+---------+\n",
      "| MgK   |   0.00 | 100.00 |   0.00 |       0.00 |      352591.16 |    0.00 |\n",
      "+-------+--------+--------+--------+------------+----------------+---------+\n",
      "| TiKa  | 100.00 |   0.00 |   0.00 |     850.07 |      301919.24 |    0.05 |\n",
      "+-------+--------+--------+--------+------------+----------------+---------+\n",
      "| VKa   |  99.91 |   0.00 |   4.29 |    1018.17 |      133423.67 |    0.09 |\n",
      "+-------+--------+--------+--------+------------+----------------+---------+\n",
      "| OK    |   0.00 |   0.00 | 100.00 |       0.00 |     8759920.45 |    0.00 |\n",
      "+-------+--------+--------+--------+------------+----------------+---------+\n"
     ]
    }
   ],
   "source": [
    "ICPNames = ['CrKa', 'CrKb', 'FeKa', 'FeKb', 'MgK', 'TiKa', 'VKa', 'OK']\n",
    "#ICPNames = ['CrKa', 'CrKb', 'FeKa', 'FeKb', 'OK']\n",
    "\n",
    "# Now read all the ICPs in and print them into a figure.\n",
    "ICPs = []\n",
    "plt.figure('ICPs')\n",
    "plt.subplot(3, len(ICPNames), 1)\n",
    "for i, n in enumerate(ICPNames):\n",
    "    ICPs.append(genfromtxt(n+'.txt'))\n",
    "    plt.subplot(3, len(ICPNames), i+1)\n",
    "    plt.imshow(ICPs[i])\n",
    "    plt.title(ICPNames[i])\n",
    "      \n",
    "# Define basis vectors and put them into the solution vector.\n",
    "Oct = ICPs[0]\n",
    "#Tet = ICPs[2]\n",
    "Tet = ICPs[4]\n",
    "Ox = ICPs[-1]\n",
    "\n",
    "# Make a column matrix of the basis vectors.\n",
    "X = np.zeros((len(ravel(Oct)), 3))\n",
    "X[:,0] = ravel(Oct)\n",
    "X[:,1] = ravel(Tet)\n",
    "X[:,2] = ravel(Ox)\n",
    "\n",
    "def DoTheFit(ICPNames, ICPs, X, row):\n",
    "    table = []\n",
    "    for i, n in enumerate(ICPNames):\n",
    "        Answer = nnls(X,ravel(ICPs[i]))\n",
    "        Reconstruction = dot(X, Answer[0])\n",
    "        deco = Answer[0]/norm(Answer[0])*100\n",
    "        res = Answer[1]\n",
    "        counts = sum(sum(ICPs[i]))\n",
    "        table.append([n, deco[0], deco[1], deco[2], res, counts, sqrt(res)/sqrt(counts)])\n",
    "        plt.subplot(3, len(ICPNames), i+1+((row-1)*len(ICPNames)))\n",
    "        #plt.imshow(Reconstruction.reshape((31,31)))\n",
    "        plt.imshow(ICPs[i])\n",
    "\n",
    "        \n",
    "\n",
    "                \n",
    "\n",
    "\n",
    "        \n",
    "    print(tabulate(table, headers=['ICP', 'Oct', 'Tet', 'Ox', 'Residual', 'Total counts', 'sigma'], floatfmt='0.02f', tablefmt='grid'))\n",
    "    \n",
    "print('Direct data')\n",
    "DoTheFit(ICPNames, ICPs, X, 2)\n",
    "\n",
    "# Try subtracting off beta intensity from overlap peaks.\n",
    "ICPs[1] -= ICPs[0]*0.123 # Cr on Mn\n",
    "ICPs[3] -= ICPs[2]*0.125 # Fe on Co\n",
    "ICPs[6] -= ICPs[5]*0.125 # Ti overlap on V\n",
    "\n",
    "print()\n",
    "print('After subtracting off overlaps')\n",
    "DoTheFit(ICPNames, ICPs, X, 3)\n",
    "\n"
   ]
  },
  {
   "cell_type": "markdown",
   "metadata": {},
   "source": [
    "## "
   ]
  },
  {
   "cell_type": "code",
   "execution_count": null,
   "metadata": {
    "collapsed": true
   },
   "outputs": [],
   "source": []
  }
 ],
 "metadata": {
  "kernelspec": {
   "display_name": "Python 3",
   "language": "python",
   "name": "python3"
  },
  "language_info": {
   "codemirror_mode": {
    "name": "ipython",
    "version": 3
   },
   "file_extension": ".py",
   "mimetype": "text/x-python",
   "name": "python",
   "nbconvert_exporter": "python",
   "pygments_lexer": "ipython3",
   "version": "3.6.1"
  }
 },
 "nbformat": 4,
 "nbformat_minor": 2
}
