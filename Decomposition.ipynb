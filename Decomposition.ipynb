{
 "cells": [
  {
   "cell_type": "code",
   "execution_count": 1,
   "metadata": {},
   "outputs": [
    {
     "name": "stdout",
     "output_type": "stream",
     "text": [
      "Populating the interactive namespace from numpy and matplotlib\n"
     ]
    }
   ],
   "source": [
    "# Created 2017, Zack Gainsforth\n",
    "%pylab osx\n",
    "import sys, os\n",
    "import QuickPlot\n",
    "import matplotlib.pylab as pylab\n",
    "# pylab.rcParams['figure.figsize'] = 8, 6  # that's default image size for this interactive session\n",
    "# from IPython.core.display import display, HTML\n",
    "# display(HTML(\"<style>.container { width:100% !important; }</style>\"))\n",
    "# from ipywidgets.widgets import interactive, fixed, interact\n",
    "%config InlineBackend.figure_format = 'retina'\n",
    "\n",
    "from sklearn.preprocessing import StandardScaler, Normalizer, MinMaxScaler, RobustScaler\n",
    "from sklearn.decomposition import FastICA, PCA, FactorAnalysis, NMF\n",
    "\n",
    "from tabulate import tabulate"
   ]
  },
  {
   "cell_type": "code",
   "execution_count": 45,
   "metadata": {},
   "outputs": [
    {
     "data": {
      "text/plain": [
       "(961, 9)"
      ]
     },
     "execution_count": 45,
     "metadata": {},
     "output_type": "execute_result"
    }
   ],
   "source": [
    "n_components=3\n",
    "\n",
    "DecoMethods = [NMF, FastICA, PCA, FactorAnalysis]\n",
    "\n",
    "#ICPNames = ['CrKa', 'CrKb', 'FeKa', 'FeKb', 'MgK', 'TiKa', 'VKa', 'OK']\n",
    "ICPNames = ['Total counts', 'CrKa', 'CrKb', 'FeKa', 'FeKb', 'MgK', 'TiKa', 'VKa', 'OK']; ICPx=3; ICPy=3\n",
    "\n",
    "ICPs = []\n",
    "plt.figure('ICPs')\n",
    "plt.subplot(ICPx, ICPy, 1)\n",
    "for i, n in enumerate(ICPNames):\n",
    "    ICPs.append(genfromtxt(n+'.txt'))\n",
    "    plt.subplot(ICPx, ICPy, i+1)\n",
    "    plt.imshow(ICPs[i], cmap='gray')\n",
    "    plt.title(ICPNames[i])\n",
    "   \n",
    "    \n",
    "data = np.zeros((len(ravel(ICPs[0])), len(ICPNames)))\n",
    "for i in range(len(ICPNames)):\n",
    "    data[:,i] = ICPs[i].ravel()\n",
    "data.shape\n"
   ]
  },
  {
   "cell_type": "code",
   "execution_count": 46,
   "metadata": {
    "scrolled": false
   },
   "outputs": [
    {
     "name": "stdout",
     "output_type": "stream",
     "text": [
      "3\n",
      "NMF\n",
      "╒════════════════╤══════════╤══════════╤════════╤════════╤═══════╤═════════╤══════════╤═══════════╕\n",
      "│   Total counts │     CrKa │     CrKb │   FeKa │   FeKb │   MgK │    TiKa │      VKa │        OK │\n",
      "╞════════════════╪══════════╪══════════╪════════╪════════╪═══════╪═════════╪══════════╪═══════════╡\n",
      "│      0.73068   │ 0.667902 │ 0.693871 │      1 │      1 │     1 │ 0.66522 │ 0.676927 │ 0.528682  │\n",
      "├────────────────┼──────────┼──────────┼────────┼────────┼───────┼─────────┼──────────┼───────────┤\n",
      "│      0.184693  │ 0.332098 │ 0.306129 │      0 │      0 │     0 │ 0.33478 │ 0.323073 │ 0.0220462 │\n",
      "├────────────────┼──────────┼──────────┼────────┼────────┼───────┼─────────┼──────────┼───────────┤\n",
      "│      0.0846278 │ 0        │ 0        │      0 │      0 │     0 │ 0       │ 0        │ 0.449272  │\n",
      "╘════════════════╧══════════╧══════════╧════════╧════════╧═══════╧═════════╧══════════╧═══════════╛\n",
      "\n",
      "FastICA\n",
      "╒════════════════╤══════════╤═══════════╤═══════════╤═══════════╤════════════╤══════════╤═══════════╤═══════════╕\n",
      "│   Total counts │     CrKa │      CrKb │      FeKa │      FeKb │        MgK │     TiKa │       VKa │        OK │\n",
      "╞════════════════╪══════════╪═══════════╪═══════════╪═══════════╪════════════╪══════════╪═══════════╪═══════════╡\n",
      "│        22.0431 │ -8.27074 │  1.10114  │ 0.0492402 │ 0.0433186 │ -0.0376751 │ -5.6173  │  1.29685  │ 0.382638  │\n",
      "├────────────────┼──────────┼───────────┼───────────┼───────────┼────────────┼──────────┼───────────┼───────────┤\n",
      "│       -10.6615 │ 12.0972  │ -1.0183   │ 0.449824  │ 0.453887  │  0.562144  │  8.41903 │ -1.24583  │ 0.0314578 │\n",
      "├────────────────┼──────────┼───────────┼───────────┼───────────┼────────────┼──────────┼───────────┼───────────┤\n",
      "│       -10.3816 │ -2.82651 │  0.917157 │ 0.500936  │ 0.502794  │  0.475531  │ -1.80173 │  0.948979 │ 0.585904  │\n",
      "╘════════════════╧══════════╧═══════════╧═══════════╧═══════════╧════════════╧══════════╧═══════════╧═══════════╛\n",
      "\n",
      "PCA\n",
      "╒════════════════╤══════════╤══════════╤══════════╤═══════════╤═══════════╤══════════╤══════════╤═══════════╕\n",
      "│   Total counts │     CrKa │     CrKb │     FeKa │      FeKb │       MgK │     TiKa │      VKa │        OK │\n",
      "╞════════════════╪══════════╪══════════╪══════════╪═══════════╪═══════════╪══════════╪══════════╪═══════════╡\n",
      "│     1.18781    │ 0.242698 │ 0.265011 │ -19.6978 │   6.25014 │ -0.544721 │ 0.253404 │ 0.181235 │ -0.120269 │\n",
      "├────────────────┼──────────┼──────────┼──────────┼───────────┼───────────┼──────────┼──────────┼───────────┤\n",
      "│    -0.189061   │ 0.633069 │ 0.473638 │ 108.947  │ -25.8297  │  3.49685  │ 0.630714 │ 0.55098  │  0.204264 │\n",
      "├────────────────┼──────────┼──────────┼──────────┼───────────┼───────────┼──────────┼──────────┼───────────┤\n",
      "│     0.00124606 │ 0.124234 │ 0.261351 │ -88.2493 │  20.5795  │ -1.95213  │ 0.115882 │ 0.267785 │  0.916004 │\n",
      "╘════════════════╧══════════╧══════════╧══════════╧═══════════╧═══════════╧══════════╧══════════╧═══════════╛\n",
      "\n",
      "FactorAnalysis\n",
      "╒════════════════╤═══════════╤═══════════╤═══════════╤════════════╤════════════╤═══════════╤═══════════╤═══════════╕\n",
      "│   Total counts │      CrKa │      CrKb │      FeKa │       FeKb │        MgK │      TiKa │       VKa │        OK │\n",
      "╞════════════════╪═══════════╪═══════════╪═══════════╪════════════╪════════════╪═══════════╪═══════════╪═══════════╡\n",
      "│     0.996555   │  1.0697   │  0.973684 │  0.585155 │  0.645555  │  0.592766  │  1.06404  │  0.98321  │  4.56256  │\n",
      "├────────────────┼───────────┼───────────┼───────────┼────────────┼────────────┼───────────┼───────────┼───────────┤\n",
      "│     0.00161833 │  0.231393 │  0.195643 │ -0.028183 │ -0.0192412 │ -0.0926437 │  0.229023 │  0.317794 │ -2.88621  │\n",
      "├────────────────┼───────────┼───────────┼───────────┼────────────┼────────────┼───────────┼───────────┼───────────┤\n",
      "│     0.0018265  │ -0.301091 │ -0.169328 │  0.443028 │  0.373686  │  0.499878  │ -0.293061 │ -0.301005 │ -0.676348 │\n",
      "╘════════════════╧═══════════╧═══════════╧═══════════╧════════════╧════════════╧═══════════╧═══════════╧═══════════╛\n",
      "\n"
     ]
    }
   ],
   "source": [
    "\n",
    "d = Normalizer().fit_transform(data)\n",
    "\n",
    "figure('Decomposition Components')\n",
    "plt.subplot(n_components,len(DecoMethods),1)\n",
    "print(n_components)\n",
    "\n",
    "for i, decomethod in enumerate(DecoMethods):\n",
    "    if decomethod.__name__ == 'NMF':\n",
    "        f = decomethod(n_components=n_components,alpha=0.8)\n",
    "    elif decomethod.__name__ == 'PCA':\n",
    "        f = decomethod(n_components=n_components)\n",
    "    else:\n",
    "        f = decomethod(n_components=n_components)\n",
    "        \n",
    "    fname = str(f.__class__).split('.')[-1].split(\"'\")[0]\n",
    "    \n",
    "    dcomp = f.fit_transform(data)\n",
    "    \n",
    "    for n in range(n_components):\n",
    "        plt.subplot(n_components, len(DecoMethods),i+1+n*len(DecoMethods))\n",
    "        plt.imshow(dcomp[:,n].reshape((31,31)), cmap='gray')\n",
    "        if n==0:\n",
    "            plt.title(fname)\n",
    "        #plt.subplot(n_components, len(DecoMethods),i+1+len(DecoMethods))\n",
    "        #plt.imshow(dcomp[:,1].reshape((31,31)))\n",
    "        plt.tight_layout()\n",
    "        \n",
    "    print(fname)\n",
    "    Occupancy = f.components_\n",
    "    Onorm = np.sum(Occupancy, axis=0)\n",
    "    Occupancy /= Onorm\n",
    "    #print(Occupancy)\n",
    "    #rowids = ['Site 1', 'Site 2', 'Site 3']\n",
    "    print(tabulate(Occupancy, headers=ICPNames, tablefmt='fancy_grid'))\n",
    "#     print(f.components_)\n",
    "#     for j, El in enumerate(ICPNames):\n",
    "#         c0 = f.components_[0,j]\n",
    "#         c1 = f.components_[1,j]\n",
    "#         Occ = c0/(c0+c1)\n",
    "#         print(El, \": \", Occ)\n",
    "    print()"
   ]
  },
  {
   "cell_type": "code",
   "execution_count": 9,
   "metadata": {
    "scrolled": true
   },
   "outputs": [
    {
     "name": "stdout",
     "output_type": "stream",
     "text": [
      "[[ 0.6666  1.      0.5287]\n",
      " [ 0.3333  0.      0.022 ]\n",
      " [ 0.      0.      0.4493]]\n",
      "[[ 0.          3.00030003 -0.14690986]\n",
      " [ 1.         -2.         -1.07878923]\n",
      " [ 0.          0.          2.2256844 ]]\n",
      "[ 0.91847945  0.0816124   0.        ]\n",
      "0.12176120346549689\n"
     ]
    }
   ],
   "source": [
    "# NMF Matrix results\n",
    "NewMat = np.array([[0.6666,0.3333,0], [1,0,0], [0.5287,0.0220,0.4493]]).T\n",
    "print(NewMat)\n",
    "MeasToOcc = np.linalg.inv(NewMat)\n",
    "print(MeasToOcc)\n",
    "print(np.dot(MeasToOcc, Occupancy[:,2]))\n",
    "\n",
    "CrKa = 14750573\n",
    "CrKb = 2045056\n",
    "print(CrKb/(CrKa+CrKb))"
   ]
  },
  {
   "cell_type": "code",
   "execution_count": 14,
   "metadata": {},
   "outputs": [
    {
     "name": "stdout",
     "output_type": "stream",
     "text": [
      "[[   0.242698  -19.6978     -0.120269]\n",
      " [   0.633069  108.947       0.204264]\n",
      " [   0.124234  -88.2493      0.916004]]\n",
      "[[ 2.46155154  0.59870361  0.18968776]\n",
      " [-0.01158504  0.00495673 -0.00262641]\n",
      " [-1.44997157  0.39633995  0.81293901]]\n",
      "[ 0.98548158 -0.00140888  0.01592619]\n"
     ]
    }
   ],
   "source": [
    "# PCA Matrix results\n",
    "NewMat = np.array([[0.242698,0.633069,0.124234], [-19.6978, 108.947, -88.2493], [-0.120269,0.204264,0.916004]]).T\n",
    "print(NewMat)\n",
    "MeasToOcc = np.linalg.inv(NewMat)\n",
    "print(MeasToOcc)\n",
    "print(np.dot(MeasToOcc, Occupancy[:,2]))\n",
    "\n"
   ]
  },
  {
   "cell_type": "code",
   "execution_count": 44,
   "metadata": {},
   "outputs": [
    {
     "name": "stdout",
     "output_type": "stream",
     "text": [
      "[[ 1.0697    0.585155  4.56256 ]\n",
      " [ 0.231393 -0.028183 -2.88621 ]\n",
      " [-0.301091  0.443028 -0.676348]]\n",
      "[[ 0.53685728  0.99993055 -0.64547541]\n",
      " [ 0.4242433   0.26900351  1.71396218]\n",
      " [ 0.03889827 -0.26893552 -0.06848534]]\n",
      "[ 0.82765593  0.17548678 -0.00314436]\n"
     ]
    }
   ],
   "source": [
    "# FA Matrix results\n",
    "NewMat = np.array([[1.0697,0.231393,-0.301091], [0.585155, -0.028183, 0.443028], [4.56256,-2.88621,-0.676348]]).T\n",
    "print(NewMat)\n",
    "MeasToOcc = np.linalg.inv(NewMat)\n",
    "print(MeasToOcc)\n",
    "print(np.dot(MeasToOcc, Occupancy[:,2]))\n",
    "\n",
    "\n"
   ]
  },
  {
   "cell_type": "code",
   "execution_count": 140,
   "metadata": {
    "collapsed": true
   },
   "outputs": [],
   "source": []
  },
  {
   "cell_type": "code",
   "execution_count": null,
   "metadata": {
    "collapsed": true
   },
   "outputs": [],
   "source": []
  }
 ],
 "metadata": {
  "kernelspec": {
   "display_name": "Python 3",
   "language": "python",
   "name": "python3"
  },
  "language_info": {
   "codemirror_mode": {
    "name": "ipython",
    "version": 3
   },
   "file_extension": ".py",
   "mimetype": "text/x-python",
   "name": "python",
   "nbconvert_exporter": "python",
   "pygments_lexer": "ipython3",
   "version": "3.6.1"
  }
 },
 "nbformat": 4,
 "nbformat_minor": 2
}
